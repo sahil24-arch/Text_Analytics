{
 "cells": [
  {
   "cell_type": "markdown",
   "metadata": {},
   "source": [
    "# Problem Statement\n",
    "\n",
    "## Find 5 interesting insights from the data given. You can write the insights on a new google spreadsheet."
   ]
  },
  {
   "cell_type": "code",
   "execution_count": 29,
   "metadata": {},
   "outputs": [],
   "source": [
    "import pandas as pd\n",
    "import matplotlib.pyplot as plt\n",
    "import seaborn as sns\n",
    "from textblob import TextBlob\n",
    "from langdetect import detect"
   ]
  },
  {
   "cell_type": "code",
   "execution_count": 2,
   "metadata": {},
   "outputs": [
    {
     "data": {
      "text/html": [
       "<div>\n",
       "<style scoped>\n",
       "    .dataframe tbody tr th:only-of-type {\n",
       "        vertical-align: middle;\n",
       "    }\n",
       "\n",
       "    .dataframe tbody tr th {\n",
       "        vertical-align: top;\n",
       "    }\n",
       "\n",
       "    .dataframe thead th {\n",
       "        text-align: right;\n",
       "    }\n",
       "</style>\n",
       "<table border=\"1\" class=\"dataframe\">\n",
       "  <thead>\n",
       "    <tr style=\"text-align: right;\">\n",
       "      <th></th>\n",
       "      <th>Review</th>\n",
       "      <th>date</th>\n",
       "      <th>Location</th>\n",
       "    </tr>\n",
       "  </thead>\n",
       "  <tbody>\n",
       "    <tr>\n",
       "      <th>0</th>\n",
       "      <td>I was very impressed with the resort.\\n Great staff at the main resort pool bar! We had a blast with them.\\n Clean, professional staff, great location and very reasonable!\\n  \\n  Read more\\n  Read less</td>\n",
       "      <td>2019-08-20</td>\n",
       "      <td>Sebastian</td>\n",
       "    </tr>\n",
       "    <tr>\n",
       "      <th>1</th>\n",
       "      <td>The rooms were nice the outside needs work also no free breakfast it would have been nice overall it was ok\\n  \\n  Read more\\n  Read less</td>\n",
       "      <td>2019-08-20</td>\n",
       "      <td>Los Angeles</td>\n",
       "    </tr>\n",
       "    <tr>\n",
       "      <th>2</th>\n",
       "      <td>Great location! I have stayed at this hotel on my last three trips to New York.\\n  \\n  Read more\\n  Read less</td>\n",
       "      <td>2019-08-20</td>\n",
       "      <td>Georgia</td>\n",
       "    </tr>\n",
       "    <tr>\n",
       "      <th>3</th>\n",
       "      <td>The hotel was adequate for my stay. The strips in the bathtub were useless as I fell while taking a shower. I asked the front desk staff several times to get a bath mat but they never did. Management was unresponsive to my request which was very poor; someone should have gone to a dollar store and gotten a bath mat. Breakfast was good but it would have been nice to have had yogurt and/or cottage cheese on the buffet.\\n  \\n  Read more\\n  Read less</td>\n",
       "      <td>2019-08-20</td>\n",
       "      <td>NaN</td>\n",
       "    </tr>\n",
       "    <tr>\n",
       "      <th>4</th>\n",
       "      <td>Great location, room was large and spacious. Parking was easy and we appreciated the friendly staff\\n  \\n  Read more\\n  Read less</td>\n",
       "      <td>2019-08-19</td>\n",
       "      <td>Palm Harbor</td>\n",
       "    </tr>\n",
       "    <tr>\n",
       "      <th>5</th>\n",
       "      <td>All the options for fun were great! Do wish there were a better policy on the lazy river floats. Lots of people\\n Hoarding them.\\n  \\n  Read more\\n  Read less</td>\n",
       "      <td>2019-08-19</td>\n",
       "      <td>NaN</td>\n",
       "    </tr>\n",
       "    <tr>\n",
       "      <th>6</th>\n",
       "      <td>Old. Musty. Motel. \\n Bath need an update asap\\n !!!!!!\\n  \\n  Read more\\n  Read less</td>\n",
       "      <td>2019-08-19</td>\n",
       "      <td>NaN</td>\n",
       "    </tr>\n",
       "    <tr>\n",
       "      <th>7</th>\n",
       "      <td>Loved the layout of the hotel and the relaxing pool area.\\n Only con was housekeeping/maintenance staff passing the room with carts and speaking loudly on radios at 7-7:30 am.\\n  \\n  Read more\\n  Read less</td>\n",
       "      <td>2019-08-19</td>\n",
       "      <td>NaN</td>\n",
       "    </tr>\n",
       "    <tr>\n",
       "      <th>8</th>\n",
       "      <td>My wife and I loved everything about it. It’s close to everything and everywhere. \\n We will be recommending to others and we will definitely be back.\\n  \\n  Read more\\n  Read less</td>\n",
       "      <td>2019-08-19</td>\n",
       "      <td>NaN</td>\n",
       "    </tr>\n",
       "    <tr>\n",
       "      <th>9</th>\n",
       "      <td>rooms were very small, was told i had a complimentary upgrade to a empire state building view room but it was a regular room, everything else was ok.\\n  \\n  Read more\\n  Read less</td>\n",
       "      <td>2019-08-19</td>\n",
       "      <td>NaN</td>\n",
       "    </tr>\n",
       "    <tr>\n",
       "      <th>10</th>\n",
       "      <td>Very clean and friendly and I love the location The restaurant that is inside was excellent for food and service the bathrooms are a little small because they’re vintage but overall I would definitely stay again\\n  \\n  Read more\\n  Read less</td>\n",
       "      <td>2019-08-19</td>\n",
       "      <td>California</td>\n",
       "    </tr>\n",
       "    <tr>\n",
       "      <th>11</th>\n",
       "      <td>Nice and comfortable good position near the station and the subway\\n  \\n  Read more\\n  Read less</td>\n",
       "      <td>2019-08-19</td>\n",
       "      <td>NaN</td>\n",
       "    </tr>\n",
       "    <tr>\n",
       "      <th>12</th>\n",
       "      <td>Location was great, lobby area was nice but room needs to be upgraded\\n  \\n  Read more\\n  Read less</td>\n",
       "      <td>2019-08-19</td>\n",
       "      <td>NaN</td>\n",
       "    </tr>\n",
       "    <tr>\n",
       "      <th>13</th>\n",
       "      <td>Quiet and at a great location. \\n Good control at entrance to elevators.\\n  \\n  Read more\\n  Read less</td>\n",
       "      <td>2019-08-19</td>\n",
       "      <td>NaN</td>\n",
       "    </tr>\n",
       "    <tr>\n",
       "      <th>14</th>\n",
       "      <td>El servicio super amables no todos en el buffet todos supur amablea creo que ellos marcan la diferencia hacen que tu mal momento en el lobby se olvide\\n  \\n  Read more\\n  Read less</td>\n",
       "      <td>2019-08-19</td>\n",
       "      <td>NaN</td>\n",
       "    </tr>\n",
       "    <tr>\n",
       "      <th>15</th>\n",
       "      <td>Very nice and quiet and clean rooms. \\n We will return when back in the area.\\n  \\n  Read more\\n  Read less</td>\n",
       "      <td>2019-08-19</td>\n",
       "      <td>Redding</td>\n",
       "    </tr>\n",
       "    <tr>\n",
       "      <th>16</th>\n",
       "      <td>Rooms were clean, updated, and beds were comfortable.\\n  \\n  Read more\\n  Read less</td>\n",
       "      <td>2019-08-19</td>\n",
       "      <td>NaN</td>\n",
       "    </tr>\n",
       "    <tr>\n",
       "      <th>17</th>\n",
       "      <td>The staff was exceptionally helpful and the property wasclose to dining and shopping ad well as Dineyland. We had a bery restful stay there abd look forward to staying there in the future.\\n  \\n  Read more\\n  Read less</td>\n",
       "      <td>2019-08-19</td>\n",
       "      <td>NaN</td>\n",
       "    </tr>\n",
       "    <tr>\n",
       "      <th>18</th>\n",
       "      <td>It was great for what we needed, a place to sleep. Parking was 20 a day, which isn’t too bad for that area. We were on the floor that the pool was located on, so there was a constant flow of loud people storming down the hallway. Poorly set up, since that is the only way to the pool. They probably put us there since we used a third party booking site.\\n  \\n  Read more\\n  Read less</td>\n",
       "      <td>2019-08-19</td>\n",
       "      <td>NaN</td>\n",
       "    </tr>\n",
       "    <tr>\n",
       "      <th>19</th>\n",
       "      <td>rooms were clean. we had two room and were able to get it right across from each other. Location was very close to john wayne airport and only 12 mile from Disneyland!!! we were there in 15 mins in a car ride. shuttle servise to nearby restaurants were available and convenient, also to the airport.\\n  \\n  Read more\\n  Read less</td>\n",
       "      <td>2019-08-19</td>\n",
       "      <td>NaN</td>\n",
       "    </tr>\n",
       "  </tbody>\n",
       "</table>\n",
       "</div>"
      ],
      "text/plain": [
       "                                                                                                                                                                                                                                                                                                                                                                                                                                                                Review  \\\n",
       "0                                                                                                                                                                                                                                                            I was very impressed with the resort.\\n Great staff at the main resort pool bar! We had a blast with them.\\n Clean, professional staff, great location and very reasonable!\\n  \\n  Read more\\n  Read less   \n",
       "1                                                                                                                                                                                                                                                                                                                            The rooms were nice the outside needs work also no free breakfast it would have been nice overall it was ok\\n  \\n  Read more\\n  Read less   \n",
       "2                                                                                                                                                                                                                                                                                                                                                        Great location! I have stayed at this hotel on my last three trips to New York.\\n  \\n  Read more\\n  Read less   \n",
       "3   The hotel was adequate for my stay. The strips in the bathtub were useless as I fell while taking a shower. I asked the front desk staff several times to get a bath mat but they never did. Management was unresponsive to my request which was very poor; someone should have gone to a dollar store and gotten a bath mat. Breakfast was good but it would have been nice to have had yogurt and/or cottage cheese on the buffet.\\n  \\n  Read more\\n  Read less   \n",
       "4                                                                                                                                                                                                                                                                                                                                    Great location, room was large and spacious. Parking was easy and we appreciated the friendly staff\\n  \\n  Read more\\n  Read less   \n",
       "5                                                                                                                                                                                                                                                                                                       All the options for fun were great! Do wish there were a better policy on the lazy river floats. Lots of people\\n Hoarding them.\\n  \\n  Read more\\n  Read less   \n",
       "6                                                                                                                                                                                                                                                                                                                                                                                Old. Musty. Motel. \\n Bath need an update asap\\n !!!!!!\\n  \\n  Read more\\n  Read less   \n",
       "7                                                                                                                                                                                                                                                        Loved the layout of the hotel and the relaxing pool area.\\n Only con was housekeeping/maintenance staff passing the room with carts and speaking loudly on radios at 7-7:30 am.\\n  \\n  Read more\\n  Read less   \n",
       "8                                                                                                                                                                                                                                                                                 My wife and I loved everything about it. It’s close to everything and everywhere. \\n We will be recommending to others and we will definitely be back.\\n  \\n  Read more\\n  Read less   \n",
       "9                                                                                                                                                                                                                                                                                  rooms were very small, was told i had a complimentary upgrade to a empire state building view room but it was a regular room, everything else was ok.\\n  \\n  Read more\\n  Read less   \n",
       "10                                                                                                                                                                                                                   Very clean and friendly and I love the location The restaurant that is inside was excellent for food and service the bathrooms are a little small because they’re vintage but overall I would definitely stay again\\n  \\n  Read more\\n  Read less   \n",
       "11                                                                                                                                                                                                                                                                                                                                                                    Nice and comfortable good position near the station and the subway\\n  \\n  Read more\\n  Read less   \n",
       "12                                                                                                                                                                                                                                                                                                                                                                 Location was great, lobby area was nice but room needs to be upgraded\\n  \\n  Read more\\n  Read less   \n",
       "13                                                                                                                                                                                                                                                                                                                                                              Quiet and at a great location. \\n Good control at entrance to elevators.\\n  \\n  Read more\\n  Read less   \n",
       "14                                                                                                                                                                                                                                                                                El servicio super amables no todos en el buffet todos supur amablea creo que ellos marcan la diferencia hacen que tu mal momento en el lobby se olvide\\n  \\n  Read more\\n  Read less   \n",
       "15                                                                                                                                                                                                                                                                                                                                                         Very nice and quiet and clean rooms. \\n We will return when back in the area.\\n  \\n  Read more\\n  Read less   \n",
       "16                                                                                                                                                                                                                                                                                                                                                                                 Rooms were clean, updated, and beds were comfortable.\\n  \\n  Read more\\n  Read less   \n",
       "17                                                                                                                                                                                                                                          The staff was exceptionally helpful and the property wasclose to dining and shopping ad well as Dineyland. We had a bery restful stay there abd look forward to staying there in the future.\\n  \\n  Read more\\n  Read less   \n",
       "18                                                                     It was great for what we needed, a place to sleep. Parking was 20 a day, which isn’t too bad for that area. We were on the floor that the pool was located on, so there was a constant flow of loud people storming down the hallway. Poorly set up, since that is the only way to the pool. They probably put us there since we used a third party booking site.\\n  \\n  Read more\\n  Read less   \n",
       "19                                                                                                                           rooms were clean. we had two room and were able to get it right across from each other. Location was very close to john wayne airport and only 12 mile from Disneyland!!! we were there in 15 mins in a car ride. shuttle servise to nearby restaurants were available and convenient, also to the airport.\\n  \\n  Read more\\n  Read less   \n",
       "\n",
       "         date     Location  \n",
       "0  2019-08-20    Sebastian  \n",
       "1  2019-08-20  Los Angeles  \n",
       "2  2019-08-20      Georgia  \n",
       "3  2019-08-20          NaN  \n",
       "4  2019-08-19  Palm Harbor  \n",
       "5  2019-08-19          NaN  \n",
       "6  2019-08-19          NaN  \n",
       "7  2019-08-19          NaN  \n",
       "8  2019-08-19          NaN  \n",
       "9  2019-08-19          NaN  \n",
       "10 2019-08-19   California  \n",
       "11 2019-08-19          NaN  \n",
       "12 2019-08-19          NaN  \n",
       "13 2019-08-19          NaN  \n",
       "14 2019-08-19          NaN  \n",
       "15 2019-08-19      Redding  \n",
       "16 2019-08-19          NaN  \n",
       "17 2019-08-19          NaN  \n",
       "18 2019-08-19          NaN  \n",
       "19 2019-08-19          NaN  "
      ]
     },
     "execution_count": 2,
     "metadata": {},
     "output_type": "execute_result"
    }
   ],
   "source": [
    "df=pd.read_excel('Data Analyst - Test Data.xlsx')\n",
    "pd.set_option('display.max_colwidth', None)\n",
    "df.head(20)"
   ]
  },
  {
   "cell_type": "code",
   "execution_count": 4,
   "metadata": {},
   "outputs": [
    {
     "data": {
      "text/plain": [
       "(6448, 3)"
      ]
     },
     "execution_count": 4,
     "metadata": {},
     "output_type": "execute_result"
    }
   ],
   "source": [
    "df.shape"
   ]
  },
  {
   "cell_type": "code",
   "execution_count": 5,
   "metadata": {},
   "outputs": [
    {
     "data": {
      "text/plain": [
       "Review        55\n",
       "date           0\n",
       "Location    4737\n",
       "dtype: int64"
      ]
     },
     "execution_count": 5,
     "metadata": {},
     "output_type": "execute_result"
    }
   ],
   "source": [
    "df.isnull().sum()"
   ]
  },
  {
   "cell_type": "code",
   "execution_count": 6,
   "metadata": {},
   "outputs": [],
   "source": [
    "df=df[df['Review'].isnull()==False]   #Remove rows where Review is null"
   ]
  },
  {
   "cell_type": "code",
   "execution_count": 7,
   "metadata": {},
   "outputs": [
    {
     "data": {
      "text/plain": [
       "Review         0\n",
       "date           0\n",
       "Location    4688\n",
       "dtype: int64"
      ]
     },
     "execution_count": 7,
     "metadata": {},
     "output_type": "execute_result"
    }
   ],
   "source": [
    "df.isnull().sum()"
   ]
  },
  {
   "cell_type": "code",
   "execution_count": 8,
   "metadata": {},
   "outputs": [
    {
     "data": {
      "text/plain": [
       "Review              object\n",
       "date        datetime64[ns]\n",
       "Location            object\n",
       "dtype: object"
      ]
     },
     "execution_count": 8,
     "metadata": {},
     "output_type": "execute_result"
    }
   ],
   "source": [
    "df.dtypes   #datatype of each column"
   ]
  },
  {
   "cell_type": "markdown",
   "metadata": {},
   "source": [
    "### Check number of reviews per month"
   ]
  },
  {
   "cell_type": "code",
   "execution_count": 13,
   "metadata": {},
   "outputs": [],
   "source": [
    "month_count=df[['date']].groupby(df.date.dt.to_period(\"M\")).agg('count')  #Group wvwry month REview count"
   ]
  },
  {
   "cell_type": "code",
   "execution_count": 14,
   "metadata": {},
   "outputs": [
    {
     "data": {
      "text/html": [
       "<div>\n",
       "<style scoped>\n",
       "    .dataframe tbody tr th:only-of-type {\n",
       "        vertical-align: middle;\n",
       "    }\n",
       "\n",
       "    .dataframe tbody tr th {\n",
       "        vertical-align: top;\n",
       "    }\n",
       "\n",
       "    .dataframe thead th {\n",
       "        text-align: right;\n",
       "    }\n",
       "</style>\n",
       "<table border=\"1\" class=\"dataframe\">\n",
       "  <thead>\n",
       "    <tr style=\"text-align: right;\">\n",
       "      <th></th>\n",
       "      <th>date</th>\n",
       "    </tr>\n",
       "    <tr>\n",
       "      <th>date</th>\n",
       "      <th></th>\n",
       "    </tr>\n",
       "  </thead>\n",
       "  <tbody>\n",
       "    <tr>\n",
       "      <th>2018-08</th>\n",
       "      <td>433</td>\n",
       "    </tr>\n",
       "    <tr>\n",
       "      <th>2018-09</th>\n",
       "      <td>478</td>\n",
       "    </tr>\n",
       "    <tr>\n",
       "      <th>2018-10</th>\n",
       "      <td>520</td>\n",
       "    </tr>\n",
       "    <tr>\n",
       "      <th>2018-11</th>\n",
       "      <td>515</td>\n",
       "    </tr>\n",
       "    <tr>\n",
       "      <th>2018-12</th>\n",
       "      <td>626</td>\n",
       "    </tr>\n",
       "    <tr>\n",
       "      <th>2019-01</th>\n",
       "      <td>504</td>\n",
       "    </tr>\n",
       "    <tr>\n",
       "      <th>2019-02</th>\n",
       "      <td>412</td>\n",
       "    </tr>\n",
       "    <tr>\n",
       "      <th>2019-03</th>\n",
       "      <td>603</td>\n",
       "    </tr>\n",
       "    <tr>\n",
       "      <th>2019-04</th>\n",
       "      <td>583</td>\n",
       "    </tr>\n",
       "    <tr>\n",
       "      <th>2019-05</th>\n",
       "      <td>521</td>\n",
       "    </tr>\n",
       "    <tr>\n",
       "      <th>2019-06</th>\n",
       "      <td>362</td>\n",
       "    </tr>\n",
       "    <tr>\n",
       "      <th>2019-07</th>\n",
       "      <td>547</td>\n",
       "    </tr>\n",
       "    <tr>\n",
       "      <th>2019-08</th>\n",
       "      <td>289</td>\n",
       "    </tr>\n",
       "  </tbody>\n",
       "</table>\n",
       "</div>"
      ],
      "text/plain": [
       "         date\n",
       "date         \n",
       "2018-08   433\n",
       "2018-09   478\n",
       "2018-10   520\n",
       "2018-11   515\n",
       "2018-12   626\n",
       "2019-01   504\n",
       "2019-02   412\n",
       "2019-03   603\n",
       "2019-04   583\n",
       "2019-05   521\n",
       "2019-06   362\n",
       "2019-07   547\n",
       "2019-08   289"
      ]
     },
     "execution_count": 14,
     "metadata": {},
     "output_type": "execute_result"
    }
   ],
   "source": [
    "month_count"
   ]
  },
  {
   "cell_type": "code",
   "execution_count": 17,
   "metadata": {},
   "outputs": [
    {
     "data": {
      "image/png": "[encoded data removed]",
      "text/plain": [
       "<Figure size 720x720 with 1 Axes>"
      ]
     },
     "metadata": {
      "needs_background": "light"
     },
     "output_type": "display_data"
    }
   ],
   "source": [
    "#Plotting a bargraph of months vs Review count\n",
    "plt.figure(figsize=(10,10))\n",
    "sns.barplot(x=month_count.index,y=month_count['date'],data=month_count)\n",
    "plt.xlabel('Month')\n",
    "plt.ylabel('Number of Reviews')\n",
    "plt.show()"
   ]
  },
  {
   "cell_type": "markdown",
   "metadata": {},
   "source": [
    "OBSERVATIONS\n",
    "1) Highest customer engagement in december month (makes sense because of year end).\n",
    "2) Lowest customer engagement in aug 19\n",
    "3) There is also a good engagement march and april 18"
   ]
  },
  {
   "cell_type": "markdown",
   "metadata": {},
   "source": [
    "## Top 10 locations with highest Review"
   ]
  },
  {
   "cell_type": "code",
   "execution_count": 18,
   "metadata": {},
   "outputs": [],
   "source": [
    "loc_count=df['Location'].groupby(df.Location).agg('count')  #Group location with respect to Review count"
   ]
  },
  {
   "cell_type": "code",
   "execution_count": 19,
   "metadata": {},
   "outputs": [
    {
     "data": {
      "text/plain": [
       "Location\n",
       "2186                                           1\n",
       "Aalborg, Denmark                               1\n",
       "Abbotsford BC                                  1\n",
       "Agde                                           1\n",
       "Aguadilla, P.R.                                1\n",
       "                                              ..\n",
       "warwick ny                                     1\n",
       "wyndham garden silicon valley ,san jose ca.    1\n",
       "yakima wa                                      1\n",
       "大阪                                             1\n",
       "東京                                             2\n",
       "Name: Location, Length: 1078, dtype: int64"
      ]
     },
     "execution_count": 19,
     "metadata": {},
     "output_type": "execute_result"
    }
   ],
   "source": [
    "loc_count"
   ]
  },
  {
   "cell_type": "code",
   "execution_count": 24,
   "metadata": {},
   "outputs": [],
   "source": [
    "loc=loc_count.sort_values(ascending=False).head(10)  #Get top 10 locations with highest reviews"
   ]
  },
  {
   "cell_type": "code",
   "execution_count": 25,
   "metadata": {},
   "outputs": [
    {
     "data": {
      "text/plain": [
       "Location\n",
       "United States of America    116\n",
       "New York                     34\n",
       "San Jose                     19\n",
       "California                   19\n",
       "Florida                      16\n",
       "Canada                       16\n",
       "United Kingdom               14\n",
       "New York, NY                 13\n",
       "NY                           12\n",
       "Seattle                      12\n",
       "Name: Location, dtype: int64"
      ]
     },
     "execution_count": 25,
     "metadata": {},
     "output_type": "execute_result"
    }
   ],
   "source": [
    "loc"
   ]
  },
  {
   "cell_type": "code",
   "execution_count": 28,
   "metadata": {
    "scrolled": true
   },
   "outputs": [
    {
     "data": {
      "image/png": "[encoded data removed]",
      "text/plain": [
       "<Figure size 1440x720 with 1 Axes>"
      ]
     },
     "metadata": {
      "needs_background": "light"
     },
     "output_type": "display_data"
    }
   ],
   "source": [
    "#Plotting bar graph of location vs no. of Reviews\n",
    "X=loc.index\n",
    "Y=loc.values\n",
    "plt.figure(figsize=(20,10))\n",
    "sns.barplot(x=X,y=Y)\n",
    "plt.xlabel('Location')\n",
    "plt.ylabel('Number of reviews')\n",
    "plt.show()"
   ]
  },
  {
   "cell_type": "markdown",
   "metadata": {},
   "source": [
    "INSIGHTS\n",
    "Top 10 locations with highest reviews\n",
    "USA Highest then NewYork,San jose and so on\n",
    "NOTE: This is from the location information available"
   ]
  },
  {
   "cell_type": "markdown",
   "metadata": {},
   "source": [
    "## Locations with lowest Reviews"
   ]
  },
  {
   "cell_type": "code",
   "execution_count": 173,
   "metadata": {},
   "outputs": [],
   "source": [
    "loc_b=loc_count.sort_values(ascending=False).tail(500)"
   ]
  },
  {
   "cell_type": "code",
   "execution_count": 191,
   "metadata": {},
   "outputs": [
    {
     "name": "stdout",
     "output_type": "stream",
     "text": [
      "Review count 1 == 915\n",
      "Review count 2 == 80\n",
      "Review count 3 == 30\n",
      "Review count 4 == 15\n",
      "Review count 5 == 8\n",
      "Review count 6 == 6\n",
      "Review count 7 == 2\n",
      "Review count 8 == 3\n",
      "Review count 9 == 3\n",
      "Review count 10 == 1\n"
     ]
    }
   ],
   "source": [
    "# Getting locations with reviews less then 10\n",
    "l_count=[]\n",
    "l_countries=[]\n",
    "for i in range(1,11):\n",
    "    print('Review count {} == {}'.format(i,loc_count[loc_count==i].count()))\n",
    "    l_count.append(i)\n",
    "    l_countries.append(loc_count[loc_count==i].count())"
   ]
  },
  {
   "cell_type": "code",
   "execution_count": 192,
   "metadata": {},
   "outputs": [
    {
     "data": {
      "image/png": "[encoded data removed]",
      "text/plain": [
       "<Figure size 1440x720 with 1 Axes>"
      ]
     },
     "metadata": {
      "needs_background": "light"
     },
     "output_type": "display_data"
    }
   ],
   "source": [
    "#Plotting Bar graph of No. of Reviews vs No. of Location\n",
    "X=l_count\n",
    "Y=l_countries\n",
    "plt.figure(figsize=(20,10))\n",
    "sns.barplot(x=X,y=Y)\n",
    "plt.show()"
   ]
  },
  {
   "cell_type": "code",
   "execution_count": 194,
   "metadata": {},
   "outputs": [
    {
     "data": {
      "text/plain": [
       "1063"
      ]
     },
     "execution_count": 194,
     "metadata": {},
     "output_type": "execute_result"
    }
   ],
   "source": [
    "sum(l_countries)  #Total locations with Reviews less than 10"
   ]
  },
  {
   "cell_type": "markdown",
   "metadata": {},
   "source": [
    "OBSERVATIONS\n",
    "\n",
    "1)around 1063 locations the reviews are less than or equal to 10 from which the majority had only 1 review(915)."
   ]
  },
  {
   "cell_type": "markdown",
   "metadata": {},
   "source": [
    "## Text Preprocessing"
   ]
  },
  {
   "cell_type": "code",
   "execution_count": 30,
   "metadata": {},
   "outputs": [],
   "source": [
    "en=df.copy()"
   ]
  },
  {
   "cell_type": "markdown",
   "metadata": {},
   "source": [
    "We can observe that the text in the dataset are of various languages.We need to filter the english text for further text processing"
   ]
  },
  {
   "cell_type": "code",
   "execution_count": 31,
   "metadata": {},
   "outputs": [],
   "source": [
    "# Function to detect text language\n",
    "def lang_detect(x):\n",
    "    try:\n",
    "        return detect(x)\n",
    "    except:\n",
    "        return 'not_detect'"
   ]
  },
  {
   "cell_type": "code",
   "execution_count": 32,
   "metadata": {},
   "outputs": [],
   "source": [
    "en['Language']=en['Review'].apply(lang_detect)  # apply above function on Review column to detect language and show in Language column "
   ]
  },
  {
   "cell_type": "code",
   "execution_count": 33,
   "metadata": {},
   "outputs": [
    {
     "data": {
      "text/html": [
       "<div>\n",
       "<style scoped>\n",
       "    .dataframe tbody tr th:only-of-type {\n",
       "        vertical-align: middle;\n",
       "    }\n",
       "\n",
       "    .dataframe tbody tr th {\n",
       "        vertical-align: top;\n",
       "    }\n",
       "\n",
       "    .dataframe thead th {\n",
       "        text-align: right;\n",
       "    }\n",
       "</style>\n",
       "<table border=\"1\" class=\"dataframe\">\n",
       "  <thead>\n",
       "    <tr style=\"text-align: right;\">\n",
       "      <th></th>\n",
       "      <th>Review</th>\n",
       "      <th>date</th>\n",
       "      <th>Location</th>\n",
       "      <th>Language</th>\n",
       "    </tr>\n",
       "  </thead>\n",
       "  <tbody>\n",
       "    <tr>\n",
       "      <th>0</th>\n",
       "      <td>I was very impressed with the resort.\\n Great staff at the main resort pool bar! We had a blast with them.\\n Clean, professional staff, great location and very reasonable!\\n  \\n  Read more\\n  Read less</td>\n",
       "      <td>2019-08-20</td>\n",
       "      <td>Sebastian</td>\n",
       "      <td>en</td>\n",
       "    </tr>\n",
       "    <tr>\n",
       "      <th>1</th>\n",
       "      <td>The rooms were nice the outside needs work also no free breakfast it would have been nice overall it was ok\\n  \\n  Read more\\n  Read less</td>\n",
       "      <td>2019-08-20</td>\n",
       "      <td>Los Angeles</td>\n",
       "      <td>en</td>\n",
       "    </tr>\n",
       "    <tr>\n",
       "      <th>2</th>\n",
       "      <td>Great location! I have stayed at this hotel on my last three trips to New York.\\n  \\n  Read more\\n  Read less</td>\n",
       "      <td>2019-08-20</td>\n",
       "      <td>Georgia</td>\n",
       "      <td>en</td>\n",
       "    </tr>\n",
       "    <tr>\n",
       "      <th>3</th>\n",
       "      <td>The hotel was adequate for my stay. The strips in the bathtub were useless as I fell while taking a shower. I asked the front desk staff several times to get a bath mat but they never did. Management was unresponsive to my request which was very poor; someone should have gone to a dollar store and gotten a bath mat. Breakfast was good but it would have been nice to have had yogurt and/or cottage cheese on the buffet.\\n  \\n  Read more\\n  Read less</td>\n",
       "      <td>2019-08-20</td>\n",
       "      <td>NaN</td>\n",
       "      <td>en</td>\n",
       "    </tr>\n",
       "    <tr>\n",
       "      <th>4</th>\n",
       "      <td>Great location, room was large and spacious. Parking was easy and we appreciated the friendly staff\\n  \\n  Read more\\n  Read less</td>\n",
       "      <td>2019-08-19</td>\n",
       "      <td>Palm Harbor</td>\n",
       "      <td>en</td>\n",
       "    </tr>\n",
       "  </tbody>\n",
       "</table>\n",
       "</div>"
      ],
      "text/plain": [
       "                                                                                                                                                                                                                                                                                                                                                                                                                                                               Review  \\\n",
       "0                                                                                                                                                                                                                                                           I was very impressed with the resort.\\n Great staff at the main resort pool bar! We had a blast with them.\\n Clean, professional staff, great location and very reasonable!\\n  \\n  Read more\\n  Read less   \n",
       "1                                                                                                                                                                                                                                                                                                                           The rooms were nice the outside needs work also no free breakfast it would have been nice overall it was ok\\n  \\n  Read more\\n  Read less   \n",
       "2                                                                                                                                                                                                                                                                                                                                                       Great location! I have stayed at this hotel on my last three trips to New York.\\n  \\n  Read more\\n  Read less   \n",
       "3  The hotel was adequate for my stay. The strips in the bathtub were useless as I fell while taking a shower. I asked the front desk staff several times to get a bath mat but they never did. Management was unresponsive to my request which was very poor; someone should have gone to a dollar store and gotten a bath mat. Breakfast was good but it would have been nice to have had yogurt and/or cottage cheese on the buffet.\\n  \\n  Read more\\n  Read less   \n",
       "4                                                                                                                                                                                                                                                                                                                                   Great location, room was large and spacious. Parking was easy and we appreciated the friendly staff\\n  \\n  Read more\\n  Read less   \n",
       "\n",
       "        date     Location Language  \n",
       "0 2019-08-20    Sebastian       en  \n",
       "1 2019-08-20  Los Angeles       en  \n",
       "2 2019-08-20      Georgia       en  \n",
       "3 2019-08-20          NaN       en  \n",
       "4 2019-08-19  Palm Harbor       en  "
      ]
     },
     "execution_count": 33,
     "metadata": {},
     "output_type": "execute_result"
    }
   ],
   "source": [
    "en.head()"
   ]
  },
  {
   "cell_type": "code",
   "execution_count": 34,
   "metadata": {},
   "outputs": [],
   "source": [
    "en=en[en['Language']=='en']  #Filter out English Reviews"
   ]
  },
  {
   "cell_type": "markdown",
   "metadata": {},
   "source": [
    "We can observe that there are various unwanted strings like '\\n','Read less' and 'Read More' which has to be removed"
   ]
  },
  {
   "cell_type": "code",
   "execution_count": 35,
   "metadata": {},
   "outputs": [],
   "source": [
    "# Function to remove unwanted Strings\n",
    "def remove_uwanted(x):\n",
    "    x=x.replace('\\n', '')\n",
    "    x=x.replace('Read more', '')\n",
    "    x=x.replace('Read less', '')\n",
    "    return x"
   ]
  },
  {
   "cell_type": "code",
   "execution_count": 36,
   "metadata": {},
   "outputs": [],
   "source": [
    "en['Review']=en['Review'].apply(remove_uwanted)  #Apply above function on Review Column"
   ]
  },
  {
   "cell_type": "code",
   "execution_count": 37,
   "metadata": {},
   "outputs": [
    {
     "data": {
      "text/html": [
       "<div>\n",
       "<style scoped>\n",
       "    .dataframe tbody tr th:only-of-type {\n",
       "        vertical-align: middle;\n",
       "    }\n",
       "\n",
       "    .dataframe tbody tr th {\n",
       "        vertical-align: top;\n",
       "    }\n",
       "\n",
       "    .dataframe thead th {\n",
       "        text-align: right;\n",
       "    }\n",
       "</style>\n",
       "<table border=\"1\" class=\"dataframe\">\n",
       "  <thead>\n",
       "    <tr style=\"text-align: right;\">\n",
       "      <th></th>\n",
       "      <th>Review</th>\n",
       "      <th>date</th>\n",
       "      <th>Location</th>\n",
       "      <th>Language</th>\n",
       "    </tr>\n",
       "  </thead>\n",
       "  <tbody>\n",
       "    <tr>\n",
       "      <th>0</th>\n",
       "      <td>I was very impressed with the resort. Great staff at the main resort pool bar! We had a blast with them. Clean, professional staff, great location and very reasonable!</td>\n",
       "      <td>2019-08-20</td>\n",
       "      <td>Sebastian</td>\n",
       "      <td>en</td>\n",
       "    </tr>\n",
       "    <tr>\n",
       "      <th>1</th>\n",
       "      <td>The rooms were nice the outside needs work also no free breakfast it would have been nice overall it was ok</td>\n",
       "      <td>2019-08-20</td>\n",
       "      <td>Los Angeles</td>\n",
       "      <td>en</td>\n",
       "    </tr>\n",
       "    <tr>\n",
       "      <th>2</th>\n",
       "      <td>Great location! I have stayed at this hotel on my last three trips to New York.</td>\n",
       "      <td>2019-08-20</td>\n",
       "      <td>Georgia</td>\n",
       "      <td>en</td>\n",
       "    </tr>\n",
       "    <tr>\n",
       "      <th>3</th>\n",
       "      <td>The hotel was adequate for my stay. The strips in the bathtub were useless as I fell while taking a shower. I asked the front desk staff several times to get a bath mat but they never did. Management was unresponsive to my request which was very poor; someone should have gone to a dollar store and gotten a bath mat. Breakfast was good but it would have been nice to have had yogurt and/or cottage cheese on the buffet.</td>\n",
       "      <td>2019-08-20</td>\n",
       "      <td>NaN</td>\n",
       "      <td>en</td>\n",
       "    </tr>\n",
       "    <tr>\n",
       "      <th>4</th>\n",
       "      <td>Great location, room was large and spacious. Parking was easy and we appreciated the friendly staff</td>\n",
       "      <td>2019-08-19</td>\n",
       "      <td>Palm Harbor</td>\n",
       "      <td>en</td>\n",
       "    </tr>\n",
       "  </tbody>\n",
       "</table>\n",
       "</div>"
      ],
      "text/plain": [
       "                                                                                                                                                                                                                                                                                                                                                                                                                                       Review  \\\n",
       "0                                                                                                                                                                                                                                                               I was very impressed with the resort. Great staff at the main resort pool bar! We had a blast with them. Clean, professional staff, great location and very reasonable!         \n",
       "1                                                                                                                                                                                                                                                                                                                           The rooms were nice the outside needs work also no free breakfast it would have been nice overall it was ok         \n",
       "2                                                                                                                                                                                                                                                                                                                                                       Great location! I have stayed at this hotel on my last three trips to New York.         \n",
       "3  The hotel was adequate for my stay. The strips in the bathtub were useless as I fell while taking a shower. I asked the front desk staff several times to get a bath mat but they never did. Management was unresponsive to my request which was very poor; someone should have gone to a dollar store and gotten a bath mat. Breakfast was good but it would have been nice to have had yogurt and/or cottage cheese on the buffet.         \n",
       "4                                                                                                                                                                                                                                                                                                                                   Great location, room was large and spacious. Parking was easy and we appreciated the friendly staff         \n",
       "\n",
       "        date     Location Language  \n",
       "0 2019-08-20    Sebastian       en  \n",
       "1 2019-08-20  Los Angeles       en  \n",
       "2 2019-08-20      Georgia       en  \n",
       "3 2019-08-20          NaN       en  \n",
       "4 2019-08-19  Palm Harbor       en  "
      ]
     },
     "execution_count": 37,
     "metadata": {},
     "output_type": "execute_result"
    }
   ],
   "source": [
    "en.head()"
   ]
  },
  {
   "cell_type": "markdown",
   "metadata": {},
   "source": [
    "## Getting Review lenght and Words per Review"
   ]
  },
  {
   "cell_type": "code",
   "execution_count": 38,
   "metadata": {},
   "outputs": [],
   "source": [
    "en['Review length']=en['Review'].apply(lambda x : len(x))     #Geting Review Lenght\n",
    "en['Words per Review']=en['Review'].apply(lambda x : len(x.split()))    #Getting number of words per review"
   ]
  },
  {
   "cell_type": "code",
   "execution_count": 39,
   "metadata": {},
   "outputs": [
    {
     "data": {
      "text/html": [
       "<div>\n",
       "<style scoped>\n",
       "    .dataframe tbody tr th:only-of-type {\n",
       "        vertical-align: middle;\n",
       "    }\n",
       "\n",
       "    .dataframe tbody tr th {\n",
       "        vertical-align: top;\n",
       "    }\n",
       "\n",
       "    .dataframe thead th {\n",
       "        text-align: right;\n",
       "    }\n",
       "</style>\n",
       "<table border=\"1\" class=\"dataframe\">\n",
       "  <thead>\n",
       "    <tr style=\"text-align: right;\">\n",
       "      <th></th>\n",
       "      <th>Review</th>\n",
       "      <th>date</th>\n",
       "      <th>Location</th>\n",
       "      <th>Language</th>\n",
       "      <th>Review length</th>\n",
       "      <th>Words per Review</th>\n",
       "    </tr>\n",
       "  </thead>\n",
       "  <tbody>\n",
       "    <tr>\n",
       "      <th>0</th>\n",
       "      <td>I was very impressed with the resort. Great staff at the main resort pool bar! We had a blast with them. Clean, professional staff, great location and very reasonable!</td>\n",
       "      <td>2019-08-20</td>\n",
       "      <td>Sebastian</td>\n",
       "      <td>en</td>\n",
       "      <td>173</td>\n",
       "      <td>29</td>\n",
       "    </tr>\n",
       "    <tr>\n",
       "      <th>1</th>\n",
       "      <td>The rooms were nice the outside needs work also no free breakfast it would have been nice overall it was ok</td>\n",
       "      <td>2019-08-20</td>\n",
       "      <td>Los Angeles</td>\n",
       "      <td>en</td>\n",
       "      <td>113</td>\n",
       "      <td>21</td>\n",
       "    </tr>\n",
       "    <tr>\n",
       "      <th>2</th>\n",
       "      <td>Great location! I have stayed at this hotel on my last three trips to New York.</td>\n",
       "      <td>2019-08-20</td>\n",
       "      <td>Georgia</td>\n",
       "      <td>en</td>\n",
       "      <td>85</td>\n",
       "      <td>16</td>\n",
       "    </tr>\n",
       "    <tr>\n",
       "      <th>3</th>\n",
       "      <td>The hotel was adequate for my stay. The strips in the bathtub were useless as I fell while taking a shower. I asked the front desk staff several times to get a bath mat but they never did. Management was unresponsive to my request which was very poor; someone should have gone to a dollar store and gotten a bath mat. Breakfast was good but it would have been nice to have had yogurt and/or cottage cheese on the buffet.</td>\n",
       "      <td>2019-08-20</td>\n",
       "      <td>NaN</td>\n",
       "      <td>en</td>\n",
       "      <td>426</td>\n",
       "      <td>80</td>\n",
       "    </tr>\n",
       "    <tr>\n",
       "      <th>4</th>\n",
       "      <td>Great location, room was large and spacious. Parking was easy and we appreciated the friendly staff</td>\n",
       "      <td>2019-08-19</td>\n",
       "      <td>Palm Harbor</td>\n",
       "      <td>en</td>\n",
       "      <td>105</td>\n",
       "      <td>16</td>\n",
       "    </tr>\n",
       "  </tbody>\n",
       "</table>\n",
       "</div>"
      ],
      "text/plain": [
       "                                                                                                                                                                                                                                                                                                                                                                                                                                       Review  \\\n",
       "0                                                                                                                                                                                                                                                               I was very impressed with the resort. Great staff at the main resort pool bar! We had a blast with them. Clean, professional staff, great location and very reasonable!         \n",
       "1                                                                                                                                                                                                                                                                                                                           The rooms were nice the outside needs work also no free breakfast it would have been nice overall it was ok         \n",
       "2                                                                                                                                                                                                                                                                                                                                                       Great location! I have stayed at this hotel on my last three trips to New York.         \n",
       "3  The hotel was adequate for my stay. The strips in the bathtub were useless as I fell while taking a shower. I asked the front desk staff several times to get a bath mat but they never did. Management was unresponsive to my request which was very poor; someone should have gone to a dollar store and gotten a bath mat. Breakfast was good but it would have been nice to have had yogurt and/or cottage cheese on the buffet.         \n",
       "4                                                                                                                                                                                                                                                                                                                                   Great location, room was large and spacious. Parking was easy and we appreciated the friendly staff         \n",
       "\n",
       "        date     Location Language  Review length  Words per Review  \n",
       "0 2019-08-20    Sebastian       en            173                29  \n",
       "1 2019-08-20  Los Angeles       en            113                21  \n",
       "2 2019-08-20      Georgia       en             85                16  \n",
       "3 2019-08-20          NaN       en            426                80  \n",
       "4 2019-08-19  Palm Harbor       en            105                16  "
      ]
     },
     "execution_count": 39,
     "metadata": {},
     "output_type": "execute_result"
    }
   ],
   "source": [
    "en.head()"
   ]
  },
  {
   "cell_type": "code",
   "execution_count": 40,
   "metadata": {},
   "outputs": [
    {
     "name": "stderr",
     "output_type": "stream",
     "text": [
      "C:\\ProgramData\\Anaconda3\\lib\\site-packages\\seaborn\\distributions.py:2551: FutureWarning: `distplot` is a deprecated function and will be removed in a future version. Please adapt your code to use either `displot` (a figure-level function with similar flexibility) or `histplot` (an axes-level function for histograms).\n",
      "  warnings.warn(msg, FutureWarning)\n"
     ]
    },
    {
     "data": {
      "image/png": "[encoded data removed]",
      "text/plain": [
       "<Figure size 720x720 with 1 Axes>"
      ]
     },
     "metadata": {
      "needs_background": "light"
     },
     "output_type": "display_data"
    }
   ],
   "source": [
    "# Histogram showing Distribution of Review length \n",
    "plt.figure(figsize=(10,10))\n",
    "sns.distplot(en['Review length'],bins=10,kde = True)\n",
    "plt.show()"
   ]
  },
  {
   "cell_type": "code",
   "execution_count": 42,
   "metadata": {},
   "outputs": [
    {
     "data": {
      "image/png": "[encoded data removed]",
      "text/plain": [
       "<Figure size 720x720 with 1 Axes>"
      ]
     },
     "metadata": {
      "needs_background": "light"
     },
     "output_type": "display_data"
    }
   ],
   "source": [
    "# Histogram showing Distribution of Words per Review \n",
    "plt.figure(figsize=(10,10))\n",
    "sns.distplot(en['Words per Review'],bins=10,kde = True)\n",
    "plt.show()"
   ]
  },
  {
   "cell_type": "markdown",
   "metadata": {},
   "source": [
    "OBSERVATION\n",
    "\n",
    "1)The majority of customer reviews are between 0 to 80 words.\n",
    "2)There is somewhat strong engagement of customers.\n",
    "3)There are few customer reviews with more than 100 words.Detailed Review"
   ]
  },
  {
   "cell_type": "markdown",
   "metadata": {},
   "source": [
    "## Sentiment of the text using polarity"
   ]
  },
  {
   "cell_type": "code",
   "execution_count": 43,
   "metadata": {},
   "outputs": [],
   "source": [
    "en['polarity']=en['Review'].apply(lambda x: TextBlob(x).sentiment.polarity)  #Getting Sentiment of the text using polarity parameter"
   ]
  },
  {
   "cell_type": "code",
   "execution_count": 44,
   "metadata": {},
   "outputs": [
    {
     "data": {
      "text/html": [
       "<div>\n",
       "<style scoped>\n",
       "    .dataframe tbody tr th:only-of-type {\n",
       "        vertical-align: middle;\n",
       "    }\n",
       "\n",
       "    .dataframe tbody tr th {\n",
       "        vertical-align: top;\n",
       "    }\n",
       "\n",
       "    .dataframe thead th {\n",
       "        text-align: right;\n",
       "    }\n",
       "</style>\n",
       "<table border=\"1\" class=\"dataframe\">\n",
       "  <thead>\n",
       "    <tr style=\"text-align: right;\">\n",
       "      <th></th>\n",
       "      <th>Review</th>\n",
       "      <th>date</th>\n",
       "      <th>Location</th>\n",
       "      <th>Language</th>\n",
       "      <th>Review length</th>\n",
       "      <th>Words per Review</th>\n",
       "      <th>polarity</th>\n",
       "    </tr>\n",
       "  </thead>\n",
       "  <tbody>\n",
       "    <tr>\n",
       "      <th>0</th>\n",
       "      <td>I was very impressed with the resort. Great staff at the main resort pool bar! We had a blast with them. Clean, professional staff, great location and very reasonable!</td>\n",
       "      <td>2019-08-20</td>\n",
       "      <td>Sebastian</td>\n",
       "      <td>en</td>\n",
       "      <td>173</td>\n",
       "      <td>29</td>\n",
       "      <td>0.514286</td>\n",
       "    </tr>\n",
       "    <tr>\n",
       "      <th>1</th>\n",
       "      <td>The rooms were nice the outside needs work also no free breakfast it would have been nice overall it was ok</td>\n",
       "      <td>2019-08-20</td>\n",
       "      <td>Los Angeles</td>\n",
       "      <td>en</td>\n",
       "      <td>113</td>\n",
       "      <td>21</td>\n",
       "      <td>0.250000</td>\n",
       "    </tr>\n",
       "    <tr>\n",
       "      <th>2</th>\n",
       "      <td>Great location! I have stayed at this hotel on my last three trips to New York.</td>\n",
       "      <td>2019-08-20</td>\n",
       "      <td>Georgia</td>\n",
       "      <td>en</td>\n",
       "      <td>85</td>\n",
       "      <td>16</td>\n",
       "      <td>0.378788</td>\n",
       "    </tr>\n",
       "    <tr>\n",
       "      <th>3</th>\n",
       "      <td>The hotel was adequate for my stay. The strips in the bathtub were useless as I fell while taking a shower. I asked the front desk staff several times to get a bath mat but they never did. Management was unresponsive to my request which was very poor; someone should have gone to a dollar store and gotten a bath mat. Breakfast was good but it would have been nice to have had yogurt and/or cottage cheese on the buffet.</td>\n",
       "      <td>2019-08-20</td>\n",
       "      <td>NaN</td>\n",
       "      <td>en</td>\n",
       "      <td>426</td>\n",
       "      <td>80</td>\n",
       "      <td>0.102222</td>\n",
       "    </tr>\n",
       "    <tr>\n",
       "      <th>4</th>\n",
       "      <td>Great location, room was large and spacious. Parking was easy and we appreciated the friendly staff</td>\n",
       "      <td>2019-08-19</td>\n",
       "      <td>Palm Harbor</td>\n",
       "      <td>en</td>\n",
       "      <td>105</td>\n",
       "      <td>16</td>\n",
       "      <td>0.404524</td>\n",
       "    </tr>\n",
       "  </tbody>\n",
       "</table>\n",
       "</div>"
      ],
      "text/plain": [
       "                                                                                                                                                                                                                                                                                                                                                                                                                                       Review  \\\n",
       "0                                                                                                                                                                                                                                                               I was very impressed with the resort. Great staff at the main resort pool bar! We had a blast with them. Clean, professional staff, great location and very reasonable!         \n",
       "1                                                                                                                                                                                                                                                                                                                           The rooms were nice the outside needs work also no free breakfast it would have been nice overall it was ok         \n",
       "2                                                                                                                                                                                                                                                                                                                                                       Great location! I have stayed at this hotel on my last three trips to New York.         \n",
       "3  The hotel was adequate for my stay. The strips in the bathtub were useless as I fell while taking a shower. I asked the front desk staff several times to get a bath mat but they never did. Management was unresponsive to my request which was very poor; someone should have gone to a dollar store and gotten a bath mat. Breakfast was good but it would have been nice to have had yogurt and/or cottage cheese on the buffet.         \n",
       "4                                                                                                                                                                                                                                                                                                                                   Great location, room was large and spacious. Parking was easy and we appreciated the friendly staff         \n",
       "\n",
       "        date     Location Language  Review length  Words per Review  polarity  \n",
       "0 2019-08-20    Sebastian       en            173                29  0.514286  \n",
       "1 2019-08-20  Los Angeles       en            113                21  0.250000  \n",
       "2 2019-08-20      Georgia       en             85                16  0.378788  \n",
       "3 2019-08-20          NaN       en            426                80  0.102222  \n",
       "4 2019-08-19  Palm Harbor       en            105                16  0.404524  "
      ]
     },
     "execution_count": 44,
     "metadata": {},
     "output_type": "execute_result"
    }
   ],
   "source": [
    "en.head()"
   ]
  },
  {
   "cell_type": "code",
   "execution_count": 45,
   "metadata": {},
   "outputs": [
    {
     "name": "stderr",
     "output_type": "stream",
     "text": [
      "C:\\ProgramData\\Anaconda3\\lib\\site-packages\\seaborn\\distributions.py:2551: FutureWarning: `distplot` is a deprecated function and will be removed in a future version. Please adapt your code to use either `displot` (a figure-level function with similar flexibility) or `histplot` (an axes-level function for histograms).\n",
      "  warnings.warn(msg, FutureWarning)\n"
     ]
    },
    {
     "data": {
      "image/png": "[encoded data removed]",
      "text/plain": [
       "<Figure size 720x720 with 1 Axes>"
      ]
     },
     "metadata": {
      "needs_background": "light"
     },
     "output_type": "display_data"
    }
   ],
   "source": [
    "# Histogram showing the sentiment distribution\n",
    "plt.figure(figsize=(10,10))\n",
    "sns.distplot(en['polarity'],kde = True)\n",
    "plt.show()"
   ]
  },
  {
   "cell_type": "markdown",
   "metadata": {},
   "source": [
    "OBSERVATION\n",
    "\n",
    "1)Majority of customers have neutral to positive sentiments\n",
    "2)In very few cases the sentiments are negative"
   ]
  },
  {
   "cell_type": "code",
   "execution_count": null,
   "metadata": {},
   "outputs": [],
   "source": []
  },
  {
   "cell_type": "markdown",
   "metadata": {},
   "source": [
    "## DATA INSIGHT\n",
    "\n",
    "### 1) There is lots of customer engagement by the year end.Other than that there is quite high engagement during March and April month.\n",
    "\n",
    "### 2)Location was provided for only 26.5 % of Reviews\n",
    "\n",
    "### 3) United States of America has Highest number of Reviews followed by New York and San Jose.Also there are 1063 locations with reviews less than 10 from which 915 locations were with single review.(Note that this observation is from from the limited location information given)\n",
    "\n",
    "### 4) The Review length and words per Review distribution indicates that the majority of customers gave detailed reviews having more than 100 words which shows strong engagement.\n",
    "\n",
    "### 5) The Sentiment analysis with  textblob show that for majority of Reviews , the polarity was above 0.So the sentiments were neutral to positive "
   ]
  },
  {
   "cell_type": "code",
   "execution_count": null,
   "metadata": {},
   "outputs": [],
   "source": []
  },
  {
   "cell_type": "code",
   "execution_count": null,
   "metadata": {},
   "outputs": [],
   "source": []
  }
 ],
 "metadata": {
  "kernelspec": {
   "display_name": "Python 3",
   "language": "python",
   "name": "python3"
  },
  "language_info": {
   "codemirror_mode": {
    "name": "ipython",
    "version": 3
   },
   "file_extension": ".py",
   "mimetype": "text/x-python",
   "name": "python",
   "nbconvert_exporter": "python",
   "pygments_lexer": "ipython3",
   "version": "3.8.5"
  }
 },
 "nbformat": 4,
 "nbformat_minor": 4
}
